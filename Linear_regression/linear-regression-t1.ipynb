{
 "cells": [
  {
   "cell_type": "code",
   "execution_count": 1,
   "id": "fdcaa179",
   "metadata": {
    "_cell_guid": "b1076dfc-b9ad-4769-8c92-a6c4dae69d19",
    "_uuid": "8f2839f25d086af736a60e9eeb907d3b93b6e0e5",
    "execution": {
     "iopub.execute_input": "2024-01-22T06:12:42.189496Z",
     "iopub.status.busy": "2024-01-22T06:12:42.188755Z",
     "iopub.status.idle": "2024-01-22T06:12:42.586338Z",
     "shell.execute_reply": "2024-01-22T06:12:42.585058Z"
    },
    "papermill": {
     "duration": 0.410093,
     "end_time": "2024-01-22T06:12:42.589873",
     "exception": false,
     "start_time": "2024-01-22T06:12:42.179780",
     "status": "completed"
    },
    "tags": []
   },
   "outputs": [
    {
     "name": "stdout",
     "output_type": "stream",
     "text": [
      "/kaggle/input/salary-dataset-simple-linear-regression/Salary_dataset.csv\n"
     ]
    }
   ],
   "source": [
    "# This Python 3 environment comes with many helpful analytics libraries installed\n",
    "# It is defined by the kaggle/python Docker image: https://github.com/kaggle/docker-python\n",
    "# For example, here's several helpful packages to load\n",
    "\n",
    "import numpy as np # linear algebra\n",
    "import pandas as pd # data processing, CSV file I/O (e.g. pd.read_csv)\n",
    "\n",
    "# Input data files are available in the read-only \"../input/\" directory\n",
    "# For example, running this (by clicking run or pressing Shift+Enter) will list all files under the input directory\n",
    "\n",
    "import os\n",
    "for dirname, _, filenames in os.walk('/kaggle/input'):\n",
    "    for filename in filenames:\n",
    "        print(os.path.join(dirname, filename))\n",
    "\n",
    "# You can write up to 20GB to the current directory (/kaggle/working/) that gets preserved as output when you create a version using \"Save & Run All\" \n",
    "# You can also write temporary files to /kaggle/temp/, but they won't be saved outside of the current session"
   ]
  },
  {
   "cell_type": "code",
   "execution_count": 2,
   "id": "777c3893",
   "metadata": {
    "execution": {
     "iopub.execute_input": "2024-01-22T06:12:42.603948Z",
     "iopub.status.busy": "2024-01-22T06:12:42.603420Z",
     "iopub.status.idle": "2024-01-22T06:12:42.628036Z",
     "shell.execute_reply": "2024-01-22T06:12:42.626779Z"
    },
    "papermill": {
     "duration": 0.034573,
     "end_time": "2024-01-22T06:12:42.630767",
     "exception": false,
     "start_time": "2024-01-22T06:12:42.596194",
     "status": "completed"
    },
    "tags": []
   },
   "outputs": [],
   "source": [
    "salary = pd.read_csv('/kaggle/input/salary-dataset-simple-linear-regression/Salary_dataset.csv')"
   ]
  },
  {
   "cell_type": "code",
   "execution_count": 3,
   "id": "81743a6a",
   "metadata": {
    "execution": {
     "iopub.execute_input": "2024-01-22T06:12:42.643921Z",
     "iopub.status.busy": "2024-01-22T06:12:42.643517Z",
     "iopub.status.idle": "2024-01-22T06:12:42.667079Z",
     "shell.execute_reply": "2024-01-22T06:12:42.666090Z"
    },
    "papermill": {
     "duration": 0.032713,
     "end_time": "2024-01-22T06:12:42.669270",
     "exception": false,
     "start_time": "2024-01-22T06:12:42.636557",
     "status": "completed"
    },
    "tags": []
   },
   "outputs": [
    {
     "data": {
      "text/html": [
       "<div>\n",
       "<style scoped>\n",
       "    .dataframe tbody tr th:only-of-type {\n",
       "        vertical-align: middle;\n",
       "    }\n",
       "\n",
       "    .dataframe tbody tr th {\n",
       "        vertical-align: top;\n",
       "    }\n",
       "\n",
       "    .dataframe thead th {\n",
       "        text-align: right;\n",
       "    }\n",
       "</style>\n",
       "<table border=\"1\" class=\"dataframe\">\n",
       "  <thead>\n",
       "    <tr style=\"text-align: right;\">\n",
       "      <th></th>\n",
       "      <th>Unnamed: 0</th>\n",
       "      <th>YearsExperience</th>\n",
       "      <th>Salary</th>\n",
       "    </tr>\n",
       "  </thead>\n",
       "  <tbody>\n",
       "    <tr>\n",
       "      <th>0</th>\n",
       "      <td>0</td>\n",
       "      <td>1.2</td>\n",
       "      <td>39344.0</td>\n",
       "    </tr>\n",
       "    <tr>\n",
       "      <th>1</th>\n",
       "      <td>1</td>\n",
       "      <td>1.4</td>\n",
       "      <td>46206.0</td>\n",
       "    </tr>\n",
       "    <tr>\n",
       "      <th>2</th>\n",
       "      <td>2</td>\n",
       "      <td>1.6</td>\n",
       "      <td>37732.0</td>\n",
       "    </tr>\n",
       "    <tr>\n",
       "      <th>3</th>\n",
       "      <td>3</td>\n",
       "      <td>2.1</td>\n",
       "      <td>43526.0</td>\n",
       "    </tr>\n",
       "  </tbody>\n",
       "</table>\n",
       "</div>"
      ],
      "text/plain": [
       "   Unnamed: 0  YearsExperience   Salary\n",
       "0           0              1.2  39344.0\n",
       "1           1              1.4  46206.0\n",
       "2           2              1.6  37732.0\n",
       "3           3              2.1  43526.0"
      ]
     },
     "execution_count": 3,
     "metadata": {},
     "output_type": "execute_result"
    }
   ],
   "source": [
    "salary.head(4)"
   ]
  },
  {
   "cell_type": "code",
   "execution_count": 4,
   "id": "7cac0c68",
   "metadata": {
    "execution": {
     "iopub.execute_input": "2024-01-22T06:12:42.682656Z",
     "iopub.status.busy": "2024-01-22T06:12:42.682260Z",
     "iopub.status.idle": "2024-01-22T06:12:42.702570Z",
     "shell.execute_reply": "2024-01-22T06:12:42.701526Z"
    },
    "papermill": {
     "duration": 0.029833,
     "end_time": "2024-01-22T06:12:42.705011",
     "exception": false,
     "start_time": "2024-01-22T06:12:42.675178",
     "status": "completed"
    },
    "tags": []
   },
   "outputs": [
    {
     "data": {
      "text/html": [
       "<div>\n",
       "<style scoped>\n",
       "    .dataframe tbody tr th:only-of-type {\n",
       "        vertical-align: middle;\n",
       "    }\n",
       "\n",
       "    .dataframe tbody tr th {\n",
       "        vertical-align: top;\n",
       "    }\n",
       "\n",
       "    .dataframe thead th {\n",
       "        text-align: right;\n",
       "    }\n",
       "</style>\n",
       "<table border=\"1\" class=\"dataframe\">\n",
       "  <thead>\n",
       "    <tr style=\"text-align: right;\">\n",
       "      <th></th>\n",
       "      <th>YearsExperience</th>\n",
       "      <th>Salary</th>\n",
       "    </tr>\n",
       "  </thead>\n",
       "  <tbody>\n",
       "    <tr>\n",
       "      <th>0</th>\n",
       "      <td>1.2</td>\n",
       "      <td>39344.0</td>\n",
       "    </tr>\n",
       "    <tr>\n",
       "      <th>1</th>\n",
       "      <td>1.4</td>\n",
       "      <td>46206.0</td>\n",
       "    </tr>\n",
       "    <tr>\n",
       "      <th>2</th>\n",
       "      <td>1.6</td>\n",
       "      <td>37732.0</td>\n",
       "    </tr>\n",
       "    <tr>\n",
       "      <th>3</th>\n",
       "      <td>2.1</td>\n",
       "      <td>43526.0</td>\n",
       "    </tr>\n",
       "    <tr>\n",
       "      <th>4</th>\n",
       "      <td>2.3</td>\n",
       "      <td>39892.0</td>\n",
       "    </tr>\n",
       "    <tr>\n",
       "      <th>5</th>\n",
       "      <td>3.0</td>\n",
       "      <td>56643.0</td>\n",
       "    </tr>\n",
       "    <tr>\n",
       "      <th>6</th>\n",
       "      <td>3.1</td>\n",
       "      <td>60151.0</td>\n",
       "    </tr>\n",
       "    <tr>\n",
       "      <th>7</th>\n",
       "      <td>3.3</td>\n",
       "      <td>54446.0</td>\n",
       "    </tr>\n",
       "    <tr>\n",
       "      <th>8</th>\n",
       "      <td>3.3</td>\n",
       "      <td>64446.0</td>\n",
       "    </tr>\n",
       "    <tr>\n",
       "      <th>9</th>\n",
       "      <td>3.8</td>\n",
       "      <td>57190.0</td>\n",
       "    </tr>\n",
       "    <tr>\n",
       "      <th>10</th>\n",
       "      <td>4.0</td>\n",
       "      <td>63219.0</td>\n",
       "    </tr>\n",
       "    <tr>\n",
       "      <th>11</th>\n",
       "      <td>4.1</td>\n",
       "      <td>55795.0</td>\n",
       "    </tr>\n",
       "    <tr>\n",
       "      <th>12</th>\n",
       "      <td>4.1</td>\n",
       "      <td>56958.0</td>\n",
       "    </tr>\n",
       "    <tr>\n",
       "      <th>13</th>\n",
       "      <td>4.2</td>\n",
       "      <td>57082.0</td>\n",
       "    </tr>\n",
       "    <tr>\n",
       "      <th>14</th>\n",
       "      <td>4.6</td>\n",
       "      <td>61112.0</td>\n",
       "    </tr>\n",
       "    <tr>\n",
       "      <th>15</th>\n",
       "      <td>5.0</td>\n",
       "      <td>67939.0</td>\n",
       "    </tr>\n",
       "    <tr>\n",
       "      <th>16</th>\n",
       "      <td>5.2</td>\n",
       "      <td>66030.0</td>\n",
       "    </tr>\n",
       "    <tr>\n",
       "      <th>17</th>\n",
       "      <td>5.4</td>\n",
       "      <td>83089.0</td>\n",
       "    </tr>\n",
       "    <tr>\n",
       "      <th>18</th>\n",
       "      <td>6.0</td>\n",
       "      <td>81364.0</td>\n",
       "    </tr>\n",
       "    <tr>\n",
       "      <th>19</th>\n",
       "      <td>6.1</td>\n",
       "      <td>93941.0</td>\n",
       "    </tr>\n",
       "    <tr>\n",
       "      <th>20</th>\n",
       "      <td>6.9</td>\n",
       "      <td>91739.0</td>\n",
       "    </tr>\n",
       "    <tr>\n",
       "      <th>21</th>\n",
       "      <td>7.2</td>\n",
       "      <td>98274.0</td>\n",
       "    </tr>\n",
       "    <tr>\n",
       "      <th>22</th>\n",
       "      <td>8.0</td>\n",
       "      <td>101303.0</td>\n",
       "    </tr>\n",
       "    <tr>\n",
       "      <th>23</th>\n",
       "      <td>8.3</td>\n",
       "      <td>113813.0</td>\n",
       "    </tr>\n",
       "    <tr>\n",
       "      <th>24</th>\n",
       "      <td>8.8</td>\n",
       "      <td>109432.0</td>\n",
       "    </tr>\n",
       "    <tr>\n",
       "      <th>25</th>\n",
       "      <td>9.1</td>\n",
       "      <td>105583.0</td>\n",
       "    </tr>\n",
       "    <tr>\n",
       "      <th>26</th>\n",
       "      <td>9.6</td>\n",
       "      <td>116970.0</td>\n",
       "    </tr>\n",
       "    <tr>\n",
       "      <th>27</th>\n",
       "      <td>9.7</td>\n",
       "      <td>112636.0</td>\n",
       "    </tr>\n",
       "    <tr>\n",
       "      <th>28</th>\n",
       "      <td>10.4</td>\n",
       "      <td>122392.0</td>\n",
       "    </tr>\n",
       "    <tr>\n",
       "      <th>29</th>\n",
       "      <td>10.6</td>\n",
       "      <td>121873.0</td>\n",
       "    </tr>\n",
       "  </tbody>\n",
       "</table>\n",
       "</div>"
      ],
      "text/plain": [
       "    YearsExperience    Salary\n",
       "0               1.2   39344.0\n",
       "1               1.4   46206.0\n",
       "2               1.6   37732.0\n",
       "3               2.1   43526.0\n",
       "4               2.3   39892.0\n",
       "5               3.0   56643.0\n",
       "6               3.1   60151.0\n",
       "7               3.3   54446.0\n",
       "8               3.3   64446.0\n",
       "9               3.8   57190.0\n",
       "10              4.0   63219.0\n",
       "11              4.1   55795.0\n",
       "12              4.1   56958.0\n",
       "13              4.2   57082.0\n",
       "14              4.6   61112.0\n",
       "15              5.0   67939.0\n",
       "16              5.2   66030.0\n",
       "17              5.4   83089.0\n",
       "18              6.0   81364.0\n",
       "19              6.1   93941.0\n",
       "20              6.9   91739.0\n",
       "21              7.2   98274.0\n",
       "22              8.0  101303.0\n",
       "23              8.3  113813.0\n",
       "24              8.8  109432.0\n",
       "25              9.1  105583.0\n",
       "26              9.6  116970.0\n",
       "27              9.7  112636.0\n",
       "28             10.4  122392.0\n",
       "29             10.6  121873.0"
      ]
     },
     "execution_count": 4,
     "metadata": {},
     "output_type": "execute_result"
    }
   ],
   "source": [
    "salary.drop('Unnamed: 0',axis=1)"
   ]
  },
  {
   "cell_type": "code",
   "execution_count": 5,
   "id": "90ef0eeb",
   "metadata": {
    "execution": {
     "iopub.execute_input": "2024-01-22T06:12:42.719466Z",
     "iopub.status.busy": "2024-01-22T06:12:42.718802Z",
     "iopub.status.idle": "2024-01-22T06:12:42.723799Z",
     "shell.execute_reply": "2024-01-22T06:12:42.722756Z"
    },
    "papermill": {
     "duration": 0.014801,
     "end_time": "2024-01-22T06:12:42.726058",
     "exception": false,
     "start_time": "2024-01-22T06:12:42.711257",
     "status": "completed"
    },
    "tags": []
   },
   "outputs": [],
   "source": [
    "X = salary['YearsExperience'].values.reshape(-1,1)"
   ]
  },
  {
   "cell_type": "code",
   "execution_count": 6,
   "id": "48231b1d",
   "metadata": {
    "execution": {
     "iopub.execute_input": "2024-01-22T06:12:42.740563Z",
     "iopub.status.busy": "2024-01-22T06:12:42.739802Z",
     "iopub.status.idle": "2024-01-22T06:12:42.744497Z",
     "shell.execute_reply": "2024-01-22T06:12:42.743727Z"
    },
    "papermill": {
     "duration": 0.014324,
     "end_time": "2024-01-22T06:12:42.746631",
     "exception": false,
     "start_time": "2024-01-22T06:12:42.732307",
     "status": "completed"
    },
    "tags": []
   },
   "outputs": [],
   "source": [
    "y = salary['Salary']"
   ]
  },
  {
   "cell_type": "code",
   "execution_count": 7,
   "id": "ff7cf492",
   "metadata": {
    "execution": {
     "iopub.execute_input": "2024-01-22T06:12:42.761104Z",
     "iopub.status.busy": "2024-01-22T06:12:42.760397Z",
     "iopub.status.idle": "2024-01-22T06:12:44.348317Z",
     "shell.execute_reply": "2024-01-22T06:12:44.347291Z"
    },
    "papermill": {
     "duration": 1.598493,
     "end_time": "2024-01-22T06:12:44.351358",
     "exception": false,
     "start_time": "2024-01-22T06:12:42.752865",
     "status": "completed"
    },
    "tags": []
   },
   "outputs": [],
   "source": [
    "from sklearn.linear_model import LinearRegression"
   ]
  },
  {
   "cell_type": "code",
   "execution_count": 8,
   "id": "da88ef74",
   "metadata": {
    "execution": {
     "iopub.execute_input": "2024-01-22T06:12:44.365537Z",
     "iopub.status.busy": "2024-01-22T06:12:44.365118Z",
     "iopub.status.idle": "2024-01-22T06:12:44.369413Z",
     "shell.execute_reply": "2024-01-22T06:12:44.368626Z"
    },
    "papermill": {
     "duration": 0.013673,
     "end_time": "2024-01-22T06:12:44.371273",
     "exception": false,
     "start_time": "2024-01-22T06:12:44.357600",
     "status": "completed"
    },
    "tags": []
   },
   "outputs": [],
   "source": [
    "lin_reg = LinearRegression()"
   ]
  },
  {
   "cell_type": "code",
   "execution_count": 9,
   "id": "45f15b4f",
   "metadata": {
    "execution": {
     "iopub.execute_input": "2024-01-22T06:12:44.385196Z",
     "iopub.status.busy": "2024-01-22T06:12:44.384542Z",
     "iopub.status.idle": "2024-01-22T06:12:44.388826Z",
     "shell.execute_reply": "2024-01-22T06:12:44.387919Z"
    },
    "papermill": {
     "duration": 0.013432,
     "end_time": "2024-01-22T06:12:44.390871",
     "exception": false,
     "start_time": "2024-01-22T06:12:44.377439",
     "status": "completed"
    },
    "tags": []
   },
   "outputs": [],
   "source": [
    "from sklearn.model_selection import train_test_split"
   ]
  },
  {
   "cell_type": "code",
   "execution_count": 10,
   "id": "01957006",
   "metadata": {
    "execution": {
     "iopub.execute_input": "2024-01-22T06:12:44.405221Z",
     "iopub.status.busy": "2024-01-22T06:12:44.404312Z",
     "iopub.status.idle": "2024-01-22T06:12:44.411411Z",
     "shell.execute_reply": "2024-01-22T06:12:44.410332Z"
    },
    "papermill": {
     "duration": 0.016993,
     "end_time": "2024-01-22T06:12:44.414047",
     "exception": false,
     "start_time": "2024-01-22T06:12:44.397054",
     "status": "completed"
    },
    "tags": []
   },
   "outputs": [],
   "source": [
    "X_train,X_test,y_train,y_test = train_test_split(X,y,random_state=42,test_size=.35)"
   ]
  },
  {
   "cell_type": "code",
   "execution_count": 11,
   "id": "647ffbb1",
   "metadata": {
    "execution": {
     "iopub.execute_input": "2024-01-22T06:12:44.428185Z",
     "iopub.status.busy": "2024-01-22T06:12:44.427770Z",
     "iopub.status.idle": "2024-01-22T06:12:44.451543Z",
     "shell.execute_reply": "2024-01-22T06:12:44.450636Z"
    },
    "papermill": {
     "duration": 0.033194,
     "end_time": "2024-01-22T06:12:44.453614",
     "exception": false,
     "start_time": "2024-01-22T06:12:44.420420",
     "status": "completed"
    },
    "tags": []
   },
   "outputs": [
    {
     "data": {
      "text/html": [
       "<style>#sk-container-id-1 {color: black;background-color: white;}#sk-container-id-1 pre{padding: 0;}#sk-container-id-1 div.sk-toggleable {background-color: white;}#sk-container-id-1 label.sk-toggleable__label {cursor: pointer;display: block;width: 100%;margin-bottom: 0;padding: 0.3em;box-sizing: border-box;text-align: center;}#sk-container-id-1 label.sk-toggleable__label-arrow:before {content: \"▸\";float: left;margin-right: 0.25em;color: #696969;}#sk-container-id-1 label.sk-toggleable__label-arrow:hover:before {color: black;}#sk-container-id-1 div.sk-estimator:hover label.sk-toggleable__label-arrow:before {color: black;}#sk-container-id-1 div.sk-toggleable__content {max-height: 0;max-width: 0;overflow: hidden;text-align: left;background-color: #f0f8ff;}#sk-container-id-1 div.sk-toggleable__content pre {margin: 0.2em;color: black;border-radius: 0.25em;background-color: #f0f8ff;}#sk-container-id-1 input.sk-toggleable__control:checked~div.sk-toggleable__content {max-height: 200px;max-width: 100%;overflow: auto;}#sk-container-id-1 input.sk-toggleable__control:checked~label.sk-toggleable__label-arrow:before {content: \"▾\";}#sk-container-id-1 div.sk-estimator input.sk-toggleable__control:checked~label.sk-toggleable__label {background-color: #d4ebff;}#sk-container-id-1 div.sk-label input.sk-toggleable__control:checked~label.sk-toggleable__label {background-color: #d4ebff;}#sk-container-id-1 input.sk-hidden--visually {border: 0;clip: rect(1px 1px 1px 1px);clip: rect(1px, 1px, 1px, 1px);height: 1px;margin: -1px;overflow: hidden;padding: 0;position: absolute;width: 1px;}#sk-container-id-1 div.sk-estimator {font-family: monospace;background-color: #f0f8ff;border: 1px dotted black;border-radius: 0.25em;box-sizing: border-box;margin-bottom: 0.5em;}#sk-container-id-1 div.sk-estimator:hover {background-color: #d4ebff;}#sk-container-id-1 div.sk-parallel-item::after {content: \"\";width: 100%;border-bottom: 1px solid gray;flex-grow: 1;}#sk-container-id-1 div.sk-label:hover label.sk-toggleable__label {background-color: #d4ebff;}#sk-container-id-1 div.sk-serial::before {content: \"\";position: absolute;border-left: 1px solid gray;box-sizing: border-box;top: 0;bottom: 0;left: 50%;z-index: 0;}#sk-container-id-1 div.sk-serial {display: flex;flex-direction: column;align-items: center;background-color: white;padding-right: 0.2em;padding-left: 0.2em;position: relative;}#sk-container-id-1 div.sk-item {position: relative;z-index: 1;}#sk-container-id-1 div.sk-parallel {display: flex;align-items: stretch;justify-content: center;background-color: white;position: relative;}#sk-container-id-1 div.sk-item::before, #sk-container-id-1 div.sk-parallel-item::before {content: \"\";position: absolute;border-left: 1px solid gray;box-sizing: border-box;top: 0;bottom: 0;left: 50%;z-index: -1;}#sk-container-id-1 div.sk-parallel-item {display: flex;flex-direction: column;z-index: 1;position: relative;background-color: white;}#sk-container-id-1 div.sk-parallel-item:first-child::after {align-self: flex-end;width: 50%;}#sk-container-id-1 div.sk-parallel-item:last-child::after {align-self: flex-start;width: 50%;}#sk-container-id-1 div.sk-parallel-item:only-child::after {width: 0;}#sk-container-id-1 div.sk-dashed-wrapped {border: 1px dashed gray;margin: 0 0.4em 0.5em 0.4em;box-sizing: border-box;padding-bottom: 0.4em;background-color: white;}#sk-container-id-1 div.sk-label label {font-family: monospace;font-weight: bold;display: inline-block;line-height: 1.2em;}#sk-container-id-1 div.sk-label-container {text-align: center;}#sk-container-id-1 div.sk-container {/* jupyter's `normalize.less` sets `[hidden] { display: none; }` but bootstrap.min.css set `[hidden] { display: none !important; }` so we also need the `!important` here to be able to override the default hidden behavior on the sphinx rendered scikit-learn.org. See: https://github.com/scikit-learn/scikit-learn/issues/21755 */display: inline-block !important;position: relative;}#sk-container-id-1 div.sk-text-repr-fallback {display: none;}</style><div id=\"sk-container-id-1\" class=\"sk-top-container\"><div class=\"sk-text-repr-fallback\"><pre>LinearRegression()</pre><b>In a Jupyter environment, please rerun this cell to show the HTML representation or trust the notebook. <br />On GitHub, the HTML representation is unable to render, please try loading this page with nbviewer.org.</b></div><div class=\"sk-container\" hidden><div class=\"sk-item\"><div class=\"sk-estimator sk-toggleable\"><input class=\"sk-toggleable__control sk-hidden--visually\" id=\"sk-estimator-id-1\" type=\"checkbox\" checked><label for=\"sk-estimator-id-1\" class=\"sk-toggleable__label sk-toggleable__label-arrow\">LinearRegression</label><div class=\"sk-toggleable__content\"><pre>LinearRegression()</pre></div></div></div></div></div>"
      ],
      "text/plain": [
       "LinearRegression()"
      ]
     },
     "execution_count": 11,
     "metadata": {},
     "output_type": "execute_result"
    }
   ],
   "source": [
    "lin_reg.fit(X_train,y_train)"
   ]
  },
  {
   "cell_type": "code",
   "execution_count": 12,
   "id": "fcdf7a40",
   "metadata": {
    "execution": {
     "iopub.execute_input": "2024-01-22T06:12:44.468469Z",
     "iopub.status.busy": "2024-01-22T06:12:44.468057Z",
     "iopub.status.idle": "2024-01-22T06:12:44.473090Z",
     "shell.execute_reply": "2024-01-22T06:12:44.472162Z"
    },
    "papermill": {
     "duration": 0.0149,
     "end_time": "2024-01-22T06:12:44.475094",
     "exception": false,
     "start_time": "2024-01-22T06:12:44.460194",
     "status": "completed"
    },
    "tags": []
   },
   "outputs": [],
   "source": [
    "y_pred = lin_reg.predict(X_test)"
   ]
  },
  {
   "cell_type": "code",
   "execution_count": 13,
   "id": "5b434bce",
   "metadata": {
    "execution": {
     "iopub.execute_input": "2024-01-22T06:12:44.490500Z",
     "iopub.status.busy": "2024-01-22T06:12:44.489516Z",
     "iopub.status.idle": "2024-01-22T06:12:44.493974Z",
     "shell.execute_reply": "2024-01-22T06:12:44.493271Z"
    },
    "papermill": {
     "duration": 0.01403,
     "end_time": "2024-01-22T06:12:44.495965",
     "exception": false,
     "start_time": "2024-01-22T06:12:44.481935",
     "status": "completed"
    },
    "tags": []
   },
   "outputs": [],
   "source": [
    "from sklearn.metrics import r2_score,mean_absolute_error"
   ]
  },
  {
   "cell_type": "code",
   "execution_count": 14,
   "id": "f4f04180",
   "metadata": {
    "execution": {
     "iopub.execute_input": "2024-01-22T06:12:44.510646Z",
     "iopub.status.busy": "2024-01-22T06:12:44.509994Z",
     "iopub.status.idle": "2024-01-22T06:12:44.515975Z",
     "shell.execute_reply": "2024-01-22T06:12:44.515090Z"
    },
    "papermill": {
     "duration": 0.016707,
     "end_time": "2024-01-22T06:12:44.519125",
     "exception": false,
     "start_time": "2024-01-22T06:12:44.502418",
     "status": "completed"
    },
    "tags": []
   },
   "outputs": [
    {
     "name": "stdout",
     "output_type": "stream",
     "text": [
      "Mean_absolute_error : 5123.521665130228\n"
     ]
    }
   ],
   "source": [
    "mae = mean_absolute_error(y_test,y_pred)\n",
    "print(\"Mean_absolute_error :\", mae)"
   ]
  },
  {
   "cell_type": "code",
   "execution_count": 15,
   "id": "16fe6e89",
   "metadata": {
    "execution": {
     "iopub.execute_input": "2024-01-22T06:12:44.534164Z",
     "iopub.status.busy": "2024-01-22T06:12:44.533476Z",
     "iopub.status.idle": "2024-01-22T06:12:44.538192Z",
     "shell.execute_reply": "2024-01-22T06:12:44.537399Z"
    },
    "papermill": {
     "duration": 0.014608,
     "end_time": "2024-01-22T06:12:44.540287",
     "exception": false,
     "start_time": "2024-01-22T06:12:44.525679",
     "status": "completed"
    },
    "tags": []
   },
   "outputs": [],
   "source": [
    "r2_scores = r2_score(y_test,y_pred)"
   ]
  },
  {
   "cell_type": "code",
   "execution_count": 16,
   "id": "be64c1e3",
   "metadata": {
    "execution": {
     "iopub.execute_input": "2024-01-22T06:12:44.555288Z",
     "iopub.status.busy": "2024-01-22T06:12:44.554392Z",
     "iopub.status.idle": "2024-01-22T06:12:44.559708Z",
     "shell.execute_reply": "2024-01-22T06:12:44.558663Z"
    },
    "papermill": {
     "duration": 0.016178,
     "end_time": "2024-01-22T06:12:44.562816",
     "exception": false,
     "start_time": "2024-01-22T06:12:44.546638",
     "status": "completed"
    },
    "tags": []
   },
   "outputs": [
    {
     "name": "stdout",
     "output_type": "stream",
     "text": [
      "R2_score:  0.9588741211444436\n"
     ]
    }
   ],
   "source": [
    "print(\"R2_score: \",r2_scores)"
   ]
  },
  {
   "cell_type": "code",
   "execution_count": 17,
   "id": "21bc8bd8",
   "metadata": {
    "execution": {
     "iopub.execute_input": "2024-01-22T06:12:44.578086Z",
     "iopub.status.busy": "2024-01-22T06:12:44.577696Z",
     "iopub.status.idle": "2024-01-22T06:12:44.584439Z",
     "shell.execute_reply": "2024-01-22T06:12:44.583379Z"
    },
    "papermill": {
     "duration": 0.016481,
     "end_time": "2024-01-22T06:12:44.586458",
     "exception": false,
     "start_time": "2024-01-22T06:12:44.569977",
     "status": "completed"
    },
    "tags": []
   },
   "outputs": [
    {
     "data": {
      "text/plain": [
       "array([9289.03909744])"
      ]
     },
     "execution_count": 17,
     "metadata": {},
     "output_type": "execute_result"
    }
   ],
   "source": [
    "lin_reg.coef_"
   ]
  },
  {
   "cell_type": "code",
   "execution_count": 18,
   "id": "b197508f",
   "metadata": {
    "execution": {
     "iopub.execute_input": "2024-01-22T06:12:44.601497Z",
     "iopub.status.busy": "2024-01-22T06:12:44.601083Z",
     "iopub.status.idle": "2024-01-22T06:12:44.607306Z",
     "shell.execute_reply": "2024-01-22T06:12:44.606191Z"
    },
    "papermill": {
     "duration": 0.016546,
     "end_time": "2024-01-22T06:12:44.609500",
     "exception": false,
     "start_time": "2024-01-22T06:12:44.592954",
     "status": "completed"
    },
    "tags": []
   },
   "outputs": [
    {
     "data": {
      "text/plain": [
       "25429.27296561063"
      ]
     },
     "execution_count": 18,
     "metadata": {},
     "output_type": "execute_result"
    }
   ],
   "source": [
    "lin_reg.intercept_"
   ]
  },
  {
   "cell_type": "code",
   "execution_count": 19,
   "id": "a0059d35",
   "metadata": {
    "execution": {
     "iopub.execute_input": "2024-01-22T06:12:44.625110Z",
     "iopub.status.busy": "2024-01-22T06:12:44.624492Z",
     "iopub.status.idle": "2024-01-22T06:12:44.628548Z",
     "shell.execute_reply": "2024-01-22T06:12:44.627595Z"
    },
    "papermill": {
     "duration": 0.014548,
     "end_time": "2024-01-22T06:12:44.630948",
     "exception": false,
     "start_time": "2024-01-22T06:12:44.616400",
     "status": "completed"
    },
    "tags": []
   },
   "outputs": [],
   "source": [
    "import matplotlib.pyplot as plt"
   ]
  },
  {
   "cell_type": "code",
   "execution_count": 20,
   "id": "4ec742ac",
   "metadata": {
    "execution": {
     "iopub.execute_input": "2024-01-22T06:12:44.645941Z",
     "iopub.status.busy": "2024-01-22T06:12:44.645556Z",
     "iopub.status.idle": "2024-01-22T06:12:44.651917Z",
     "shell.execute_reply": "2024-01-22T06:12:44.650936Z"
    },
    "papermill": {
     "duration": 0.016438,
     "end_time": "2024-01-22T06:12:44.654081",
     "exception": false,
     "start_time": "2024-01-22T06:12:44.637643",
     "status": "completed"
    },
    "tags": []
   },
   "outputs": [
    {
     "data": {
      "text/plain": [
       "(30, 1)"
      ]
     },
     "execution_count": 20,
     "metadata": {},
     "output_type": "execute_result"
    }
   ],
   "source": [
    "X.shape"
   ]
  },
  {
   "cell_type": "code",
   "execution_count": 21,
   "id": "321bc177",
   "metadata": {
    "execution": {
     "iopub.execute_input": "2024-01-22T06:12:44.669362Z",
     "iopub.status.busy": "2024-01-22T06:12:44.668969Z",
     "iopub.status.idle": "2024-01-22T06:12:44.675454Z",
     "shell.execute_reply": "2024-01-22T06:12:44.674397Z"
    },
    "papermill": {
     "duration": 0.016696,
     "end_time": "2024-01-22T06:12:44.677662",
     "exception": false,
     "start_time": "2024-01-22T06:12:44.660966",
     "status": "completed"
    },
    "tags": []
   },
   "outputs": [
    {
     "data": {
      "text/plain": [
       "(30,)"
      ]
     },
     "execution_count": 21,
     "metadata": {},
     "output_type": "execute_result"
    }
   ],
   "source": [
    "y.shape"
   ]
  },
  {
   "cell_type": "code",
   "execution_count": 22,
   "id": "b3b088db",
   "metadata": {
    "execution": {
     "iopub.execute_input": "2024-01-22T06:12:44.693328Z",
     "iopub.status.busy": "2024-01-22T06:12:44.692565Z",
     "iopub.status.idle": "2024-01-22T06:12:45.020529Z",
     "shell.execute_reply": "2024-01-22T06:12:45.019331Z"
    },
    "papermill": {
     "duration": 0.338335,
     "end_time": "2024-01-22T06:12:45.022938",
     "exception": false,
     "start_time": "2024-01-22T06:12:44.684603",
     "status": "completed"
    },
    "tags": []
   },
   "outputs": [
    {
     "data": {
      "text/plain": [
       "Text(0.5, 1.0, 'Years of Experience Vs Salary')"
      ]
     },
     "execution_count": 22,
     "metadata": {},
     "output_type": "execute_result"
    },
    {
     "data": {
      "image/png": "[encoded data removed]",
      "text/plain": [
       "<Figure size 640x480 with 1 Axes>"
      ]
     },
     "metadata": {},
     "output_type": "display_data"
    }
   ],
   "source": [
    "plt.scatter(X,y)\n",
    "plt.plot(X_test, y_pred, color='red', linewidth=3, label='Regression line')\n",
    "plt.xlabel(\"Year of Experience\")\n",
    "plt.ylabel(\"Salary\")\n",
    "plt.title(\"Years of Experience Vs Salary\")"
   ]
  },
  {
   "cell_type": "code",
   "execution_count": null,
   "id": "911b337b",
   "metadata": {
    "papermill": {
     "duration": 0.007479,
     "end_time": "2024-01-22T06:12:45.038296",
     "exception": false,
     "start_time": "2024-01-22T06:12:45.030817",
     "status": "completed"
    },
    "tags": []
   },
   "outputs": [],
   "source": []
  }
 ],
 "metadata": {
  "kaggle": {
   "accelerator": "none",
   "dataSources": [
    {
     "datasetId": 2799910,
     "sourceId": 4832081,
     "sourceType": "datasetVersion"
    }
   ],
   "dockerImageVersionId": 30635,
   "isGpuEnabled": false,
   "isInternetEnabled": true,
   "language": "python",
   "sourceType": "notebook"
  },
  "kernelspec": {
   "display_name": "Python 3",
   "language": "python",
   "name": "python3"
  },
  "language_info": {
   "codemirror_mode": {
    "name": "ipython",
    "version": 3
   },
   "file_extension": ".py",
   "mimetype": "text/x-python",
   "name": "python",
   "nbconvert_exporter": "python",
   "pygments_lexer": "ipython3",
   "version": "3.10.12"
  },
  "papermill": {
   "default_parameters": {},
   "duration": 6.611216,
   "end_time": "2024-01-22T06:12:45.667935",
   "environment_variables": {},
   "exception": null,
   "input_path": "__notebook__.ipynb",
   "output_path": "__notebook__.ipynb",
   "parameters": {},
   "start_time": "2024-01-22T06:12:39.056719",
   "version": "2.4.0"
  }
 },
 "nbformat": 4,
 "nbformat_minor": 5
}
